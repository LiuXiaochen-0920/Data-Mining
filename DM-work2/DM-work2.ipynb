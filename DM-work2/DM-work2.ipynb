{
 "cells": [
  {
   "cell_type": "markdown",
   "metadata": {},
   "source": [
    "# 互评作业2: 频繁模式与关联规则挖掘--3220200920刘晓晨\n",
    "Github地址：https://github.com/LiuXiaochen-0920/Data-Mining"
   ]
  },
  {
   "cell_type": "markdown",
   "metadata": {},
   "source": [
    "## 作业说明\n",
    "### 1. 问题描述\n",
    "利用所学数据挖掘技术，选择1个数据集进行频繁模式和关联规则挖掘，并撰写分析报告。"
   ]
  },
  {
   "cell_type": "markdown",
   "metadata": {},
   "source": [
    "### 2. 数据集\n",
    "所选数据集为：<br>  \n",
    "* [Oakland Crime Statistics 2011 to 2016](https://www.kaggle.com/cityofoakland/oakland-crime-statistics-2011-to-2016)"
   ]
  },
  {
   "cell_type": "markdown",
   "metadata": {},
   "source": [
    "### 3. 背景\n",
    "这是一个小项目，通过2011-2016年的数据集来寻找加州奥克兰的犯罪细节。\n",
    "作为一点背景信息，数据集中有一些犯罪名称，在这里做一下说明。\n",
    "例如，“priority 1 & 2”的定义如下:\n",
    "* “priority 1”是一种紧急犯罪，例如，警灯和警报器被授权，持械抢劫，警察被击倒等。\n",
    "* “priority 2”被认为是不那么紧急的，例如，授权了灯和警报器，但要遵守基本的交通规则。"
   ]
  },
  {
   "cell_type": "markdown",
   "metadata": {},
   "source": [
    "### 4. 数据分析要求\n",
    "* 对数据集进行处理，转换成适合进行关联规则挖掘的形式；\n",
    "* 找出频繁模式；\n",
    "* 导出关联规则，计算其支持度和置信度;\n",
    "* 对规则进行评价，可使用Lift、卡方和其它教材中提及的指标, 至少2种；\n",
    "* 对挖掘结果进行分析；\n",
    "* 可视化展示。"
   ]
  },
  {
   "cell_type": "markdown",
   "metadata": {},
   "source": [
    "# 频繁模式与关联规则挖掘"
   ]
  },
  {
   "cell_type": "code",
   "execution_count": 72,
   "metadata": {},
   "outputs": [],
   "source": [
    "import pandas as pd\n",
    "import numpy as np\n",
    "import matplotlib.pyplot as plt\n",
    "import seaborn as sns\n",
    "import os\n",
    "import warnings \n",
    "import scipy as sp\n",
    "import seaborn as sns\n",
    "import json\n",
    "import math\n",
    "import re\n",
    "import sys\n",
    "import csv\n",
    "from pandas import Timestamp\n",
    "from datetime import date\n",
    "from dateutil.relativedelta import relativedelta\n",
    "from sklearn.linear_model import LinearRegression\n",
    "from tqdm import tqdm\n",
    "from progressbar import *"
   ]
  },
  {
   "cell_type": "code",
   "execution_count": 46,
   "metadata": {},
   "outputs": [],
   "source": [
    "warnings.filterwarnings('ignore')"
   ]
  },
  {
   "cell_type": "code",
   "execution_count": 47,
   "metadata": {},
   "outputs": [],
   "source": [
    "# 导入文件\n",
    "df_2011 = pd.read_csv('./input/oakland-crime-statistics-2011-to-2016/records-for-2011.csv', parse_dates=['Create Time', 'Closed Time'])\n",
    "df_2012 = pd.read_csv('./input/oakland-crime-statistics-2011-to-2016/records-for-2012.csv', parse_dates=['Create Time', 'Closed Time'])\n",
    "df_2013 = pd.read_csv('./input/oakland-crime-statistics-2011-to-2016/records-for-2013.csv', parse_dates=['Create Time', 'Closed Time'])\n",
    "df_2014 = pd.read_csv('./input/oakland-crime-statistics-2011-to-2016/records-for-2014.csv', parse_dates=['Create Time', 'Closed Time'])\n",
    "df_2015 = pd.read_csv('./input/oakland-crime-statistics-2011-to-2016/records-for-2015.csv', parse_dates=['Create Time', 'Closed Time'])\n",
    "df_2016 = pd.read_csv('./input/oakland-crime-statistics-2011-to-2016/records-for-2016.csv', parse_dates=['Create Time', 'Closed Time'])"
   ]
  },
  {
   "cell_type": "code",
   "execution_count": 48,
   "metadata": {},
   "outputs": [],
   "source": [
    "list_dfs = [df_2011, df_2012, df_2013, df_2014, df_2015, df_2016]"
   ]
  },
  {
   "cell_type": "code",
   "execution_count": 49,
   "metadata": {},
   "outputs": [
    {
     "name": "stdout",
     "output_type": "stream",
     "text": [
      "Shape of dataset for 2011 is (180016, 10)\n",
      "Shape of dataset for 2012 is (187431, 11)\n",
      "Shape of dataset for 2013 is (188052, 10)\n",
      "Shape of dataset for 2014 is (187480, 11)\n",
      "Shape of dataset for 2015 is (192581, 10)\n",
      "Shape of dataset for 2016 is (110828, 10)\n"
     ]
    }
   ],
   "source": [
    "# 查看所有数据集的前几行数据\n",
    "def shapes():\n",
    "    x = 0\n",
    "    for i in list_dfs:\n",
    "        print(f\"Shape of dataset for {x+2011} is {i.shape}\")\n",
    "        x+=1\n",
    "shapes()"
   ]
  },
  {
   "cell_type": "code",
   "execution_count": 50,
   "metadata": {},
   "outputs": [
    {
     "data": {
      "text/html": [
       "<div>\n",
       "<style scoped>\n",
       "    .dataframe tbody tr th:only-of-type {\n",
       "        vertical-align: middle;\n",
       "    }\n",
       "\n",
       "    .dataframe tbody tr th {\n",
       "        vertical-align: top;\n",
       "    }\n",
       "\n",
       "    .dataframe thead th {\n",
       "        text-align: right;\n",
       "    }\n",
       "</style>\n",
       "<table border=\"1\" class=\"dataframe\">\n",
       "  <thead>\n",
       "    <tr style=\"text-align: right;\">\n",
       "      <th></th>\n",
       "      <th>Agency</th>\n",
       "      <th>Create Time</th>\n",
       "      <th>Location</th>\n",
       "      <th>Area Id</th>\n",
       "      <th>Beat</th>\n",
       "      <th>Priority</th>\n",
       "      <th>Incident Type Id</th>\n",
       "      <th>Incident Type Description</th>\n",
       "      <th>Event Number</th>\n",
       "      <th>Closed Time</th>\n",
       "    </tr>\n",
       "  </thead>\n",
       "  <tbody>\n",
       "    <tr>\n",
       "      <th>0</th>\n",
       "      <td>OP</td>\n",
       "      <td>2011-01-01 00:00:00</td>\n",
       "      <td>ST&amp;SAN PABLO AV</td>\n",
       "      <td>1.0</td>\n",
       "      <td>06X</td>\n",
       "      <td>1.0</td>\n",
       "      <td>PDOA</td>\n",
       "      <td>POSSIBLE DEAD PERSON</td>\n",
       "      <td>LOP110101000001</td>\n",
       "      <td>2011-01-01 00:28:17</td>\n",
       "    </tr>\n",
       "    <tr>\n",
       "      <th>1</th>\n",
       "      <td>OP</td>\n",
       "      <td>2011-01-01 00:01:11</td>\n",
       "      <td>ST&amp;HANNAH ST</td>\n",
       "      <td>1.0</td>\n",
       "      <td>07X</td>\n",
       "      <td>1.0</td>\n",
       "      <td>415GS</td>\n",
       "      <td>415 GUNSHOTS</td>\n",
       "      <td>LOP110101000002</td>\n",
       "      <td>2011-01-01 01:12:56</td>\n",
       "    </tr>\n",
       "    <tr>\n",
       "      <th>2</th>\n",
       "      <td>OP</td>\n",
       "      <td>2011-01-01 00:01:25</td>\n",
       "      <td>ST&amp;MARKET ST</td>\n",
       "      <td>1.0</td>\n",
       "      <td>10Y</td>\n",
       "      <td>2.0</td>\n",
       "      <td>415GS</td>\n",
       "      <td>415 GUNSHOTS</td>\n",
       "      <td>LOP110101000003</td>\n",
       "      <td>2011-01-01 00:07:20</td>\n",
       "    </tr>\n",
       "    <tr>\n",
       "      <th>3</th>\n",
       "      <td>OP</td>\n",
       "      <td>2011-01-01 00:01:35</td>\n",
       "      <td>PRENTISS ST</td>\n",
       "      <td>2.0</td>\n",
       "      <td>21Y</td>\n",
       "      <td>2.0</td>\n",
       "      <td>415GS</td>\n",
       "      <td>415 GUNSHOTS</td>\n",
       "      <td>LOP110101000005</td>\n",
       "      <td>2011-01-01 00:02:28</td>\n",
       "    </tr>\n",
       "    <tr>\n",
       "      <th>4</th>\n",
       "      <td>OP</td>\n",
       "      <td>2011-01-01 00:02:10</td>\n",
       "      <td>AV&amp;FOOTHILL BLVD</td>\n",
       "      <td>2.0</td>\n",
       "      <td>20X</td>\n",
       "      <td>1.0</td>\n",
       "      <td>415GS</td>\n",
       "      <td>415 GUNSHOTS</td>\n",
       "      <td>LOP110101000004</td>\n",
       "      <td>2011-01-01 00:50:04</td>\n",
       "    </tr>\n",
       "  </tbody>\n",
       "</table>\n",
       "</div>"
      ],
      "text/plain": [
       "  Agency         Create Time            Location  Area Id Beat  Priority  \\\n",
       "0     OP 2011-01-01 00:00:00     ST&SAN PABLO AV      1.0  06X       1.0   \n",
       "1     OP 2011-01-01 00:01:11       ST&HANNAH ST       1.0  07X       1.0   \n",
       "2     OP 2011-01-01 00:01:25       ST&MARKET ST       1.0  10Y       2.0   \n",
       "3     OP 2011-01-01 00:01:35        PRENTISS ST       2.0  21Y       2.0   \n",
       "4     OP 2011-01-01 00:02:10   AV&FOOTHILL BLVD       2.0  20X       1.0   \n",
       "\n",
       "  Incident Type Id Incident Type Description     Event Number  \\\n",
       "0             PDOA      POSSIBLE DEAD PERSON  LOP110101000001   \n",
       "1            415GS              415 GUNSHOTS  LOP110101000002   \n",
       "2            415GS              415 GUNSHOTS  LOP110101000003   \n",
       "3            415GS              415 GUNSHOTS  LOP110101000005   \n",
       "4            415GS              415 GUNSHOTS  LOP110101000004   \n",
       "\n",
       "          Closed Time  \n",
       "0 2011-01-01 00:28:17  \n",
       "1 2011-01-01 01:12:56  \n",
       "2 2011-01-01 00:07:20  \n",
       "3 2011-01-01 00:02:28  \n",
       "4 2011-01-01 00:50:04  "
      ]
     },
     "execution_count": 50,
     "metadata": {},
     "output_type": "execute_result"
    }
   ],
   "source": [
    "df_2011.head()"
   ]
  },
  {
   "cell_type": "code",
   "execution_count": 51,
   "metadata": {},
   "outputs": [
    {
     "data": {
      "text/html": [
       "<div>\n",
       "<style scoped>\n",
       "    .dataframe tbody tr th:only-of-type {\n",
       "        vertical-align: middle;\n",
       "    }\n",
       "\n",
       "    .dataframe tbody tr th {\n",
       "        vertical-align: top;\n",
       "    }\n",
       "\n",
       "    .dataframe thead th {\n",
       "        text-align: right;\n",
       "    }\n",
       "</style>\n",
       "<table border=\"1\" class=\"dataframe\">\n",
       "  <thead>\n",
       "    <tr style=\"text-align: right;\">\n",
       "      <th></th>\n",
       "      <th>Agency</th>\n",
       "      <th>Create Time</th>\n",
       "      <th>Area Id</th>\n",
       "      <th>Beat</th>\n",
       "      <th>Priority</th>\n",
       "      <th>Incident Type Id</th>\n",
       "      <th>Incident Type Description</th>\n",
       "      <th>Event Number</th>\n",
       "      <th>Closed Time</th>\n",
       "      <th>Location 1</th>\n",
       "      <th>Zip Codes</th>\n",
       "    </tr>\n",
       "  </thead>\n",
       "  <tbody>\n",
       "    <tr>\n",
       "      <th>0</th>\n",
       "      <td>OP</td>\n",
       "      <td>2012-01-01 00:00:25</td>\n",
       "      <td>2.0</td>\n",
       "      <td>32Y</td>\n",
       "      <td>2.0</td>\n",
       "      <td>415GS</td>\n",
       "      <td>415 GUNSHOTS</td>\n",
       "      <td>LOP120101000004</td>\n",
       "      <td>2012-01-01 00:40:27</td>\n",
       "      <td>{'human_address': '{\"address\": \"OLIVE ST\", \"ci...</td>\n",
       "      <td>NaN</td>\n",
       "    </tr>\n",
       "    <tr>\n",
       "      <th>1</th>\n",
       "      <td>OP</td>\n",
       "      <td>2012-01-01 00:00:27</td>\n",
       "      <td>2.0</td>\n",
       "      <td>30Y</td>\n",
       "      <td>2.0</td>\n",
       "      <td>415GS</td>\n",
       "      <td>415 GUNSHOTS</td>\n",
       "      <td>LOP120101000003</td>\n",
       "      <td>2012-01-01 01:34:31</td>\n",
       "      <td>{'human_address': '{\"address\": \"AV&amp;MACARTHUR B...</td>\n",
       "      <td>NaN</td>\n",
       "    </tr>\n",
       "    <tr>\n",
       "      <th>2</th>\n",
       "      <td>OP</td>\n",
       "      <td>2012-01-01 00:00:48</td>\n",
       "      <td>1.0</td>\n",
       "      <td>06X</td>\n",
       "      <td>2.0</td>\n",
       "      <td>949</td>\n",
       "      <td>SUSPICIOUS VEHICLE</td>\n",
       "      <td>LOP120101000005</td>\n",
       "      <td>2012-01-01 01:18:38</td>\n",
       "      <td>{'human_address': '{\"address\": \"SYCAMORE ST\", ...</td>\n",
       "      <td>NaN</td>\n",
       "    </tr>\n",
       "    <tr>\n",
       "      <th>3</th>\n",
       "      <td>OP</td>\n",
       "      <td>2012-01-01 00:00:58</td>\n",
       "      <td>2.0</td>\n",
       "      <td>35X</td>\n",
       "      <td>2.0</td>\n",
       "      <td>415GS</td>\n",
       "      <td>415 GUNSHOTS</td>\n",
       "      <td>LOP120101000008</td>\n",
       "      <td>2012-01-01 02:37:00</td>\n",
       "      <td>{'human_address': '{\"address\": \"AV&amp;MACARTHUR B...</td>\n",
       "      <td>NaN</td>\n",
       "    </tr>\n",
       "    <tr>\n",
       "      <th>4</th>\n",
       "      <td>OP</td>\n",
       "      <td>2012-01-01 00:01:14</td>\n",
       "      <td>1.0</td>\n",
       "      <td>02Y</td>\n",
       "      <td>2.0</td>\n",
       "      <td>415GS</td>\n",
       "      <td>415 GUNSHOTS</td>\n",
       "      <td>LOP120101000007</td>\n",
       "      <td>2012-01-01 02:12:39</td>\n",
       "      <td>{'human_address': '{\"address\": \"ST&amp;WOOD ST\", \"...</td>\n",
       "      <td>NaN</td>\n",
       "    </tr>\n",
       "  </tbody>\n",
       "</table>\n",
       "</div>"
      ],
      "text/plain": [
       "  Agency         Create Time  Area Id Beat  Priority Incident Type Id  \\\n",
       "0     OP 2012-01-01 00:00:25      2.0  32Y       2.0            415GS   \n",
       "1     OP 2012-01-01 00:00:27      2.0  30Y       2.0            415GS   \n",
       "2     OP 2012-01-01 00:00:48      1.0  06X       2.0              949   \n",
       "3     OP 2012-01-01 00:00:58      2.0  35X       2.0            415GS   \n",
       "4     OP 2012-01-01 00:01:14      1.0  02Y       2.0            415GS   \n",
       "\n",
       "  Incident Type Description     Event Number         Closed Time  \\\n",
       "0              415 GUNSHOTS  LOP120101000004 2012-01-01 00:40:27   \n",
       "1              415 GUNSHOTS  LOP120101000003 2012-01-01 01:34:31   \n",
       "2        SUSPICIOUS VEHICLE  LOP120101000005 2012-01-01 01:18:38   \n",
       "3              415 GUNSHOTS  LOP120101000008 2012-01-01 02:37:00   \n",
       "4              415 GUNSHOTS  LOP120101000007 2012-01-01 02:12:39   \n",
       "\n",
       "                                          Location 1  Zip Codes  \n",
       "0  {'human_address': '{\"address\": \"OLIVE ST\", \"ci...        NaN  \n",
       "1  {'human_address': '{\"address\": \"AV&MACARTHUR B...        NaN  \n",
       "2  {'human_address': '{\"address\": \"SYCAMORE ST\", ...        NaN  \n",
       "3  {'human_address': '{\"address\": \"AV&MACARTHUR B...        NaN  \n",
       "4  {'human_address': '{\"address\": \"ST&WOOD ST\", \"...        NaN  "
      ]
     },
     "execution_count": 51,
     "metadata": {},
     "output_type": "execute_result"
    }
   ],
   "source": [
    "df_2012.head()"
   ]
  },
  {
   "cell_type": "code",
   "execution_count": 52,
   "metadata": {},
   "outputs": [
    {
     "data": {
      "text/html": [
       "<div>\n",
       "<style scoped>\n",
       "    .dataframe tbody tr th:only-of-type {\n",
       "        vertical-align: middle;\n",
       "    }\n",
       "\n",
       "    .dataframe tbody tr th {\n",
       "        vertical-align: top;\n",
       "    }\n",
       "\n",
       "    .dataframe thead th {\n",
       "        text-align: right;\n",
       "    }\n",
       "</style>\n",
       "<table border=\"1\" class=\"dataframe\">\n",
       "  <thead>\n",
       "    <tr style=\"text-align: right;\">\n",
       "      <th></th>\n",
       "      <th>Agency</th>\n",
       "      <th>Create Time</th>\n",
       "      <th>Location</th>\n",
       "      <th>Area Id</th>\n",
       "      <th>Beat</th>\n",
       "      <th>Priority</th>\n",
       "      <th>Incident Type Id</th>\n",
       "      <th>Incident Type Description</th>\n",
       "      <th>Event Number</th>\n",
       "      <th>Closed Time</th>\n",
       "    </tr>\n",
       "  </thead>\n",
       "  <tbody>\n",
       "    <tr>\n",
       "      <th>0</th>\n",
       "      <td>OP</td>\n",
       "      <td>2013-01-01 00:00:00</td>\n",
       "      <td>D ST</td>\n",
       "      <td>2.0</td>\n",
       "      <td>33X</td>\n",
       "      <td>1.0</td>\n",
       "      <td>415GS</td>\n",
       "      <td>415 GUNSHOTS</td>\n",
       "      <td>LOP130101000002</td>\n",
       "      <td>2013-01-01 00:47:51</td>\n",
       "    </tr>\n",
       "    <tr>\n",
       "      <th>1</th>\n",
       "      <td>OP</td>\n",
       "      <td>2013-01-01 00:00:05</td>\n",
       "      <td>ARTHUR ST</td>\n",
       "      <td>2.0</td>\n",
       "      <td>30X</td>\n",
       "      <td>2.0</td>\n",
       "      <td>415GS</td>\n",
       "      <td>415 GUNSHOTS</td>\n",
       "      <td>LOP130101000004</td>\n",
       "      <td>2013-01-01 01:30:58</td>\n",
       "    </tr>\n",
       "    <tr>\n",
       "      <th>2</th>\n",
       "      <td>OP</td>\n",
       "      <td>2013-01-01 00:00:50</td>\n",
       "      <td>BRIDGE AV</td>\n",
       "      <td>2.0</td>\n",
       "      <td>23X</td>\n",
       "      <td>1.0</td>\n",
       "      <td>243E</td>\n",
       "      <td>BATTERY ON CO-HABITA</td>\n",
       "      <td>LOP130101000003</td>\n",
       "      <td>2013-01-01 05:05:50</td>\n",
       "    </tr>\n",
       "    <tr>\n",
       "      <th>3</th>\n",
       "      <td>OP</td>\n",
       "      <td>2013-01-01 00:02:16</td>\n",
       "      <td>AV&amp;BROOKDALE AV</td>\n",
       "      <td>2.0</td>\n",
       "      <td>29X</td>\n",
       "      <td>2.0</td>\n",
       "      <td>415GS</td>\n",
       "      <td>415 GUNSHOTS</td>\n",
       "      <td>LOP130101000005</td>\n",
       "      <td>2013-01-01 01:37:27</td>\n",
       "    </tr>\n",
       "    <tr>\n",
       "      <th>4</th>\n",
       "      <td>OP</td>\n",
       "      <td>2013-01-01 00:02:47</td>\n",
       "      <td>AV&amp;SAN LEANDRO ST</td>\n",
       "      <td>2.0</td>\n",
       "      <td>26Y</td>\n",
       "      <td>2.0</td>\n",
       "      <td>415GS</td>\n",
       "      <td>415 GUNSHOTS</td>\n",
       "      <td>LOP130101000006</td>\n",
       "      <td>2013-01-01 01:33:11</td>\n",
       "    </tr>\n",
       "  </tbody>\n",
       "</table>\n",
       "</div>"
      ],
      "text/plain": [
       "  Agency         Create Time              Location   Area Id Beat  Priority  \\\n",
       "0     OP 2013-01-01 00:00:00               D ST          2.0  33X       1.0   \n",
       "1     OP 2013-01-01 00:00:05          ARTHUR ST          2.0  30X       2.0   \n",
       "2     OP 2013-01-01 00:00:50          BRIDGE AV          2.0  23X       1.0   \n",
       "3     OP 2013-01-01 00:02:16    AV&BROOKDALE AV          2.0  29X       2.0   \n",
       "4     OP 2013-01-01 00:02:47   AV&SAN LEANDRO ST         2.0  26Y       2.0   \n",
       "\n",
       "  Incident Type Id Incident Type Description     Event Number  \\\n",
       "0            415GS              415 GUNSHOTS  LOP130101000002   \n",
       "1            415GS              415 GUNSHOTS  LOP130101000004   \n",
       "2             243E      BATTERY ON CO-HABITA  LOP130101000003   \n",
       "3            415GS              415 GUNSHOTS  LOP130101000005   \n",
       "4            415GS              415 GUNSHOTS  LOP130101000006   \n",
       "\n",
       "          Closed Time  \n",
       "0 2013-01-01 00:47:51  \n",
       "1 2013-01-01 01:30:58  \n",
       "2 2013-01-01 05:05:50  \n",
       "3 2013-01-01 01:37:27  \n",
       "4 2013-01-01 01:33:11  "
      ]
     },
     "execution_count": 52,
     "metadata": {},
     "output_type": "execute_result"
    }
   ],
   "source": [
    "df_2013.head()"
   ]
  },
  {
   "cell_type": "code",
   "execution_count": 53,
   "metadata": {},
   "outputs": [
    {
     "data": {
      "text/html": [
       "<div>\n",
       "<style scoped>\n",
       "    .dataframe tbody tr th:only-of-type {\n",
       "        vertical-align: middle;\n",
       "    }\n",
       "\n",
       "    .dataframe tbody tr th {\n",
       "        vertical-align: top;\n",
       "    }\n",
       "\n",
       "    .dataframe thead th {\n",
       "        text-align: right;\n",
       "    }\n",
       "</style>\n",
       "<table border=\"1\" class=\"dataframe\">\n",
       "  <thead>\n",
       "    <tr style=\"text-align: right;\">\n",
       "      <th></th>\n",
       "      <th>Agency</th>\n",
       "      <th>Create Time</th>\n",
       "      <th>Area Id</th>\n",
       "      <th>Beat</th>\n",
       "      <th>Priority</th>\n",
       "      <th>Incident Type Id</th>\n",
       "      <th>Incident Type Description</th>\n",
       "      <th>Event Number</th>\n",
       "      <th>Closed Time</th>\n",
       "      <th>Location 1</th>\n",
       "      <th>Zip Codes</th>\n",
       "    </tr>\n",
       "  </thead>\n",
       "  <tbody>\n",
       "    <tr>\n",
       "      <th>0</th>\n",
       "      <td>OP</td>\n",
       "      <td>2014-01-01 00:00:00</td>\n",
       "      <td>1.0</td>\n",
       "      <td>02X</td>\n",
       "      <td>2</td>\n",
       "      <td>415GS</td>\n",
       "      <td>415 GUNSHOTS</td>\n",
       "      <td>LOP140101000001</td>\n",
       "      <td>2014-01-01 03:22:08</td>\n",
       "      <td>{'human_address': '{\"address\": \"LINDEN ST\", \"c...</td>\n",
       "      <td>NaN</td>\n",
       "    </tr>\n",
       "    <tr>\n",
       "      <th>1</th>\n",
       "      <td>OP</td>\n",
       "      <td>2014-01-01 00:00:00</td>\n",
       "      <td>2.0</td>\n",
       "      <td>26Y</td>\n",
       "      <td>2</td>\n",
       "      <td>415GS</td>\n",
       "      <td>415 GUNSHOTS</td>\n",
       "      <td>LOP140101000002</td>\n",
       "      <td>2014-01-01 02:56:31</td>\n",
       "      <td>{'human_address': '{\"address\": \"AV&amp;INTERNATION...</td>\n",
       "      <td>NaN</td>\n",
       "    </tr>\n",
       "    <tr>\n",
       "      <th>2</th>\n",
       "      <td>OP</td>\n",
       "      <td>2014-01-01 00:00:00</td>\n",
       "      <td>2.0</td>\n",
       "      <td>30Y</td>\n",
       "      <td>2</td>\n",
       "      <td>415GS</td>\n",
       "      <td>415 GUNSHOTS</td>\n",
       "      <td>LOP140101000004</td>\n",
       "      <td>2014-01-01 00:49:53</td>\n",
       "      <td>{'human_address': '{\"address\": \"AV&amp;MACARTHUR B...</td>\n",
       "      <td>NaN</td>\n",
       "    </tr>\n",
       "    <tr>\n",
       "      <th>3</th>\n",
       "      <td>OP</td>\n",
       "      <td>2014-01-01 00:00:00</td>\n",
       "      <td>2.0</td>\n",
       "      <td>30Y</td>\n",
       "      <td>2</td>\n",
       "      <td>415GS</td>\n",
       "      <td>415 GUNSHOTS</td>\n",
       "      <td>LOP140101000005</td>\n",
       "      <td>2014-01-01 02:51:11</td>\n",
       "      <td>{'human_address': '{\"address\": \"MACARTHUR BLVD...</td>\n",
       "      <td>NaN</td>\n",
       "    </tr>\n",
       "    <tr>\n",
       "      <th>4</th>\n",
       "      <td>OP</td>\n",
       "      <td>2014-01-01 00:01:04</td>\n",
       "      <td>2.0</td>\n",
       "      <td>35X</td>\n",
       "      <td>2</td>\n",
       "      <td>CODE7</td>\n",
       "      <td>SUBJECT ARMED WITH W</td>\n",
       "      <td>LOP140101000010</td>\n",
       "      <td>2014-01-01 05:33:22</td>\n",
       "      <td>{'human_address': '{\"address\": \"AV&amp;DOWLING ST\"...</td>\n",
       "      <td>NaN</td>\n",
       "    </tr>\n",
       "  </tbody>\n",
       "</table>\n",
       "</div>"
      ],
      "text/plain": [
       "  Agency         Create Time  Area Id Beat  Priority Incident Type Id  \\\n",
       "0     OP 2014-01-01 00:00:00      1.0  02X         2            415GS   \n",
       "1     OP 2014-01-01 00:00:00      2.0  26Y         2            415GS   \n",
       "2     OP 2014-01-01 00:00:00      2.0  30Y         2            415GS   \n",
       "3     OP 2014-01-01 00:00:00      2.0  30Y         2            415GS   \n",
       "4     OP 2014-01-01 00:01:04      2.0  35X         2            CODE7   \n",
       "\n",
       "  Incident Type Description     Event Number         Closed Time  \\\n",
       "0              415 GUNSHOTS  LOP140101000001 2014-01-01 03:22:08   \n",
       "1              415 GUNSHOTS  LOP140101000002 2014-01-01 02:56:31   \n",
       "2              415 GUNSHOTS  LOP140101000004 2014-01-01 00:49:53   \n",
       "3              415 GUNSHOTS  LOP140101000005 2014-01-01 02:51:11   \n",
       "4      SUBJECT ARMED WITH W  LOP140101000010 2014-01-01 05:33:22   \n",
       "\n",
       "                                          Location 1  Zip Codes  \n",
       "0  {'human_address': '{\"address\": \"LINDEN ST\", \"c...        NaN  \n",
       "1  {'human_address': '{\"address\": \"AV&INTERNATION...        NaN  \n",
       "2  {'human_address': '{\"address\": \"AV&MACARTHUR B...        NaN  \n",
       "3  {'human_address': '{\"address\": \"MACARTHUR BLVD...        NaN  \n",
       "4  {'human_address': '{\"address\": \"AV&DOWLING ST\"...        NaN  "
      ]
     },
     "execution_count": 53,
     "metadata": {},
     "output_type": "execute_result"
    }
   ],
   "source": [
    "df_2014.head()"
   ]
  },
  {
   "cell_type": "code",
   "execution_count": 54,
   "metadata": {},
   "outputs": [
    {
     "data": {
      "text/html": [
       "<div>\n",
       "<style scoped>\n",
       "    .dataframe tbody tr th:only-of-type {\n",
       "        vertical-align: middle;\n",
       "    }\n",
       "\n",
       "    .dataframe tbody tr th {\n",
       "        vertical-align: top;\n",
       "    }\n",
       "\n",
       "    .dataframe thead th {\n",
       "        text-align: right;\n",
       "    }\n",
       "</style>\n",
       "<table border=\"1\" class=\"dataframe\">\n",
       "  <thead>\n",
       "    <tr style=\"text-align: right;\">\n",
       "      <th></th>\n",
       "      <th>Agency</th>\n",
       "      <th>Create Time</th>\n",
       "      <th>Location</th>\n",
       "      <th>Area Id</th>\n",
       "      <th>Beat</th>\n",
       "      <th>Priority</th>\n",
       "      <th>Incident Type Id</th>\n",
       "      <th>Incident Type Description</th>\n",
       "      <th>Event Number</th>\n",
       "      <th>Closed Time</th>\n",
       "    </tr>\n",
       "  </thead>\n",
       "  <tbody>\n",
       "    <tr>\n",
       "      <th>0</th>\n",
       "      <td>OP</td>\n",
       "      <td>2015-01-01 00:01:59</td>\n",
       "      <td>S ELMHURST AV</td>\n",
       "      <td>P3</td>\n",
       "      <td>31Y</td>\n",
       "      <td>2</td>\n",
       "      <td>415</td>\n",
       "      <td>DISTURBING THE PEACE</td>\n",
       "      <td>LOP150101000003</td>\n",
       "      <td>2015-01-01 06:23:08</td>\n",
       "    </tr>\n",
       "    <tr>\n",
       "      <th>1</th>\n",
       "      <td>OP</td>\n",
       "      <td>2015-01-01 00:02:02</td>\n",
       "      <td>AV&amp;D ST</td>\n",
       "      <td>P3</td>\n",
       "      <td>32X</td>\n",
       "      <td>2</td>\n",
       "      <td>415GS</td>\n",
       "      <td>415 GUNSHOTS</td>\n",
       "      <td>LOP150101000007</td>\n",
       "      <td>2015-01-01 01:44:40</td>\n",
       "    </tr>\n",
       "    <tr>\n",
       "      <th>2</th>\n",
       "      <td>OP</td>\n",
       "      <td>2015-01-01 00:02:06</td>\n",
       "      <td>BANCROFT AV</td>\n",
       "      <td>P3</td>\n",
       "      <td>30Y</td>\n",
       "      <td>2</td>\n",
       "      <td>933R</td>\n",
       "      <td>ALARM-RINGER</td>\n",
       "      <td>LOP150101000004</td>\n",
       "      <td>2015-01-01 02:12:39</td>\n",
       "    </tr>\n",
       "    <tr>\n",
       "      <th>3</th>\n",
       "      <td>OP</td>\n",
       "      <td>2015-01-01 00:03:16</td>\n",
       "      <td>MACARTHUR BLVD</td>\n",
       "      <td>P3</td>\n",
       "      <td>30Y</td>\n",
       "      <td>2</td>\n",
       "      <td>415GS</td>\n",
       "      <td>415 GUNSHOTS</td>\n",
       "      <td>LOP150101000005</td>\n",
       "      <td>2015-01-01 01:53:08</td>\n",
       "    </tr>\n",
       "    <tr>\n",
       "      <th>4</th>\n",
       "      <td>OP</td>\n",
       "      <td>2015-01-01 00:03:45</td>\n",
       "      <td>ST&amp;ADELINE ST</td>\n",
       "      <td>P1</td>\n",
       "      <td>02X</td>\n",
       "      <td>2</td>\n",
       "      <td>415GS</td>\n",
       "      <td>415 GUNSHOTS</td>\n",
       "      <td>LOP150101000009</td>\n",
       "      <td>2015-01-01 00:37:09</td>\n",
       "    </tr>\n",
       "  </tbody>\n",
       "</table>\n",
       "</div>"
      ],
      "text/plain": [
       "  Agency         Create Time             Location Area Id Beat  Priority  \\\n",
       "0     OP 2015-01-01 00:01:59     S ELMHURST AV         P3  31Y         2   \n",
       "1     OP 2015-01-01 00:02:02          AV&D ST          P3  32X         2   \n",
       "2     OP 2015-01-01 00:02:06      BANCROFT AV          P3  30Y         2   \n",
       "3     OP 2015-01-01 00:03:16   MACARTHUR BLVD          P3  30Y         2   \n",
       "4     OP 2015-01-01 00:03:45    ST&ADELINE ST          P1  02X         2   \n",
       "\n",
       "  Incident Type Id Incident Type Description     Event Number  \\\n",
       "0              415      DISTURBING THE PEACE  LOP150101000003   \n",
       "1            415GS              415 GUNSHOTS  LOP150101000007   \n",
       "2             933R              ALARM-RINGER  LOP150101000004   \n",
       "3            415GS              415 GUNSHOTS  LOP150101000005   \n",
       "4            415GS              415 GUNSHOTS  LOP150101000009   \n",
       "\n",
       "          Closed Time  \n",
       "0 2015-01-01 06:23:08  \n",
       "1 2015-01-01 01:44:40  \n",
       "2 2015-01-01 02:12:39  \n",
       "3 2015-01-01 01:53:08  \n",
       "4 2015-01-01 00:37:09  "
      ]
     },
     "execution_count": 54,
     "metadata": {},
     "output_type": "execute_result"
    }
   ],
   "source": [
    "df_2015.head()"
   ]
  },
  {
   "cell_type": "code",
   "execution_count": 55,
   "metadata": {},
   "outputs": [
    {
     "data": {
      "text/html": [
       "<div>\n",
       "<style scoped>\n",
       "    .dataframe tbody tr th:only-of-type {\n",
       "        vertical-align: middle;\n",
       "    }\n",
       "\n",
       "    .dataframe tbody tr th {\n",
       "        vertical-align: top;\n",
       "    }\n",
       "\n",
       "    .dataframe thead th {\n",
       "        text-align: right;\n",
       "    }\n",
       "</style>\n",
       "<table border=\"1\" class=\"dataframe\">\n",
       "  <thead>\n",
       "    <tr style=\"text-align: right;\">\n",
       "      <th></th>\n",
       "      <th>Agency</th>\n",
       "      <th>Create Time</th>\n",
       "      <th>Location</th>\n",
       "      <th>Area Id</th>\n",
       "      <th>Beat</th>\n",
       "      <th>Priority</th>\n",
       "      <th>Incident Type Id</th>\n",
       "      <th>Incident Type Description</th>\n",
       "      <th>Event Number</th>\n",
       "      <th>Closed Time</th>\n",
       "    </tr>\n",
       "  </thead>\n",
       "  <tbody>\n",
       "    <tr>\n",
       "      <th>0</th>\n",
       "      <td>OP</td>\n",
       "      <td>2016-01-01 00:00:57</td>\n",
       "      <td>ST&amp;MARKET ST</td>\n",
       "      <td>P1</td>\n",
       "      <td>05X</td>\n",
       "      <td>2.0</td>\n",
       "      <td>415GS</td>\n",
       "      <td>415 GUNSHOTS</td>\n",
       "      <td>LOP160101000003</td>\n",
       "      <td>2016-01-01 00:32:30</td>\n",
       "    </tr>\n",
       "    <tr>\n",
       "      <th>1</th>\n",
       "      <td>OP</td>\n",
       "      <td>2016-01-01 00:01:25</td>\n",
       "      <td>AV&amp;HAMILTON ST</td>\n",
       "      <td>P3</td>\n",
       "      <td>26Y</td>\n",
       "      <td>2.0</td>\n",
       "      <td>415GS</td>\n",
       "      <td>415 GUNSHOTS</td>\n",
       "      <td>LOP160101000005</td>\n",
       "      <td>2016-01-01 00:48:23</td>\n",
       "    </tr>\n",
       "    <tr>\n",
       "      <th>2</th>\n",
       "      <td>OP</td>\n",
       "      <td>2016-01-01 00:01:43</td>\n",
       "      <td>ST&amp;CHESTNUT ST</td>\n",
       "      <td>P1</td>\n",
       "      <td>02X</td>\n",
       "      <td>2.0</td>\n",
       "      <td>415GS</td>\n",
       "      <td>415 GUNSHOTS</td>\n",
       "      <td>LOP160101000008</td>\n",
       "      <td>2016-01-01 00:21:24</td>\n",
       "    </tr>\n",
       "    <tr>\n",
       "      <th>3</th>\n",
       "      <td>OP</td>\n",
       "      <td>2016-01-01 00:01:48</td>\n",
       "      <td>WALLACE ST</td>\n",
       "      <td>P2</td>\n",
       "      <td>18Y</td>\n",
       "      <td>2.0</td>\n",
       "      <td>415GS</td>\n",
       "      <td>415 GUNSHOTS</td>\n",
       "      <td>LOP160101000007</td>\n",
       "      <td>2016-01-01 01:15:03</td>\n",
       "    </tr>\n",
       "    <tr>\n",
       "      <th>4</th>\n",
       "      <td>OP</td>\n",
       "      <td>2016-01-01 00:02:05</td>\n",
       "      <td>90TH AV</td>\n",
       "      <td>P3</td>\n",
       "      <td>34X</td>\n",
       "      <td>2.0</td>\n",
       "      <td>415GS</td>\n",
       "      <td>415 GUNSHOTS</td>\n",
       "      <td>LOP160101000009</td>\n",
       "      <td>2016-01-01 00:54:52</td>\n",
       "    </tr>\n",
       "  </tbody>\n",
       "</table>\n",
       "</div>"
      ],
      "text/plain": [
       "  Agency         Create Time             Location Area Id Beat  Priority  \\\n",
       "0     OP 2016-01-01 00:00:57     ST&MARKET ST          P1  05X       2.0   \n",
       "1     OP 2016-01-01 00:01:25   AV&HAMILTON ST          P3  26Y       2.0   \n",
       "2     OP 2016-01-01 00:01:43   ST&CHESTNUT ST          P1  02X       2.0   \n",
       "3     OP 2016-01-01 00:01:48       WALLACE ST          P2  18Y       2.0   \n",
       "4     OP 2016-01-01 00:02:05          90TH AV          P3  34X       2.0   \n",
       "\n",
       "  Incident Type Id Incident Type Description     Event Number  \\\n",
       "0            415GS              415 GUNSHOTS  LOP160101000003   \n",
       "1            415GS              415 GUNSHOTS  LOP160101000005   \n",
       "2            415GS              415 GUNSHOTS  LOP160101000008   \n",
       "3            415GS              415 GUNSHOTS  LOP160101000007   \n",
       "4            415GS              415 GUNSHOTS  LOP160101000009   \n",
       "\n",
       "          Closed Time  \n",
       "0 2016-01-01 00:32:30  \n",
       "1 2016-01-01 00:48:23  \n",
       "2 2016-01-01 00:21:24  \n",
       "3 2016-01-01 01:15:03  \n",
       "4 2016-01-01 00:54:52  "
      ]
     },
     "execution_count": 55,
     "metadata": {},
     "output_type": "execute_result"
    }
   ],
   "source": [
    "df_2016.head()"
   ]
  },
  {
   "cell_type": "markdown",
   "metadata": {},
   "source": [
    "### 优先级分析"
   ]
  },
  {
   "cell_type": "code",
   "execution_count": 56,
   "metadata": {},
   "outputs": [
    {
     "name": "stdout",
     "output_type": "stream",
     "text": [
      "   Priority  Count in 2011\n",
      "0       1.0          36699\n",
      "1       2.0         143314\n",
      " \n",
      "   Priority  Count in 2012\n",
      "0       1.0          41926\n",
      "1       2.0         145504\n",
      " \n",
      "   Priority  Count in 2013\n",
      "0       1.0          43171\n",
      "1       2.0         144859\n",
      " \n",
      "   Priority  Count in 2014\n",
      "0         1          42773\n",
      "1         2         144707\n",
      " \n",
      "   Priority  Count in 2015\n",
      "0         1          42418\n",
      "1         2         150162\n",
      " \n",
      "   Priority  Count in 2016\n",
      "0       1.0          24555\n",
      "1       2.0          86272\n",
      " \n"
     ]
    }
   ],
   "source": [
    "# 所有年份中所观察的优先罪案数目:\n",
    "a = 0\n",
    "for i in list_dfs:\n",
    "    print(i[i['Priority']!=0].groupby(['Priority']).size().reset_index(name=str(f'Count in {a + 2011}')))\n",
    "    a += 1\n",
    "    print(' ')"
   ]
  },
  {
   "cell_type": "code",
   "execution_count": 57,
   "metadata": {},
   "outputs": [
    {
     "data": {
      "text/plain": [
       "array([[<AxesSubplot:title={'center':'Count in 2011'}, xlabel='Priority'>,\n",
       "        <AxesSubplot:title={'center':'Count in 2012'}, xlabel='Priority'>,\n",
       "        <AxesSubplot:title={'center':'Count in 2013'}, xlabel='Priority'>],\n",
       "       [<AxesSubplot:title={'center':'Count in 2014'}, xlabel='Priority'>,\n",
       "        <AxesSubplot:title={'center':'Count in 2015'}, xlabel='Priority'>,\n",
       "        <AxesSubplot:title={'center':'Count in 2016'}, xlabel='Priority'>]],\n",
       "      dtype=object)"
      ]
     },
     "execution_count": 57,
     "metadata": {},
     "output_type": "execute_result"
    },
    {
     "data": {
      "image/png": "[encoded data removed]",
      "text/plain": [
       "<Figure size 1080x504 with 6 Axes>"
      ]
     },
     "metadata": {
      "needs_background": "light"
     },
     "output_type": "display_data"
    }
   ],
   "source": [
    "# 比较优先类型犯罪的柱状图\n",
    "df = pd.DataFrame([\n",
    "    [1, 36699, 41926, 43171, 42773, 42418, 24555],\n",
    "    [2, 143314, 145504, 144859, 144707, 150162, 86272]\n",
    "],\n",
    "columns=['Priority']+[f'Count in {x}' for x in range(2011,2017)]\n",
    ")\n",
    "\n",
    "df.plot.bar(x='Priority', subplots=True, layout=(2,3), figsize=(15, 7))"
   ]
  },
  {
   "cell_type": "markdown",
   "metadata": {},
   "source": [
    "在整个数据集中，犯罪率似乎保持稳定。在观察到的六年中，百分比差异的幅度很小。"
   ]
  },
  {
   "cell_type": "markdown",
   "metadata": {},
   "source": [
    "### 区域ID分析"
   ]
  },
  {
   "cell_type": "code",
   "execution_count": 58,
   "metadata": {},
   "outputs": [
    {
     "name": "stdout",
     "output_type": "stream",
     "text": [
      "Area Id  Priority\n",
      "1.0      1.0         15348\n",
      "         2.0         63804\n",
      "2.0      1.0         14228\n",
      "         2.0         53032\n",
      "3.0      1.0          7095\n",
      "         2.0         25603\n",
      "dtype: int64\n",
      " \n",
      "Area Id  Priority\n",
      "1.0      1.0         21256\n",
      "         2.0         79797\n",
      "2.0      1.0         20618\n",
      "         2.0         64345\n",
      "dtype: int64\n",
      " \n",
      "Area Id  Priority\n",
      "1.0      1.0         23332\n",
      "         2.0         81873\n",
      "2.0      1.0         19773\n",
      "         2.0         60795\n",
      "dtype: int64\n",
      " \n",
      "Area Id  Priority\n",
      "1.0      1           1086\n",
      "         2           3945\n",
      "2.0      1            953\n",
      "         2           2945\n",
      "3.0      1             43\n",
      "         2            165\n",
      "4.0      1             58\n",
      "         2            178\n",
      "5.0      1             81\n",
      "         2            239\n",
      "dtype: int64\n",
      " \n",
      "Area Id  Priority\n",
      "P1       1           14950\n",
      "         2           58190\n",
      "P2       1            7345\n",
      "         2           26078\n",
      "P3       1           19870\n",
      "         2           61759\n",
      "PCW      1             201\n",
      "         2             394\n",
      "POU      1              51\n",
      "         2            3736\n",
      "TEC      1               1\n",
      "         2               5\n",
      "dtype: int64\n",
      " \n",
      "Area Id  Priority\n",
      "JLS      2.0             1\n",
      "P1       1.0          8490\n",
      "         2.0         32929\n",
      "P2       1.0          4300\n",
      "         2.0         15310\n",
      "P3       1.0         11671\n",
      "         2.0         35754\n",
      "PCW      1.0            56\n",
      "         2.0           138\n",
      "POU      1.0            37\n",
      "         2.0          2136\n",
      "TEC      1.0             1\n",
      "         2.0             3\n",
      "WAG      2.0             1\n",
      "dtype: int64\n",
      " \n"
     ]
    }
   ],
   "source": [
    "# 每个区域/位置/巡逻区域的平均优先级计数\n",
    "def areaid_groupby():\n",
    "    for i in list_dfs:\n",
    "        print(i[i['Priority']!=0].groupby(['Area Id', 'Priority']).size())\n",
    "        print(' ')\n",
    "areaid_groupby()"
   ]
  },
  {
   "cell_type": "code",
   "execution_count": 59,
   "metadata": {},
   "outputs": [
    {
     "data": {
      "image/png": "[encoded data removed]",
      "text/plain": [
       "<Figure size 1080x504 with 6 Axes>"
      ]
     },
     "metadata": {
      "needs_background": "light"
     },
     "output_type": "display_data"
    }
   ],
   "source": [
    "fig, axes= plt.subplots(2, 3)\n",
    "for i, d in enumerate(list_dfs):\n",
    "    ax = axes.flatten()[i]\n",
    "    dplot = d[['Area Id', 'Priority']].pivot_table(index='Area Id', columns=['Priority'], aggfunc=len)\n",
    "    dplot = (dplot.assign(total=lambda x: x.sum(axis=1))\n",
    "                  .sort_values('total', ascending=False)\n",
    "                  .head(10)\n",
    "                  .drop('total', axis=1))\n",
    "    dplot.plot.bar(ax=ax, figsize=(15, 7), stacked=True)\n",
    "    ax.set_title(f\"Plot of Priority 1 and 2 crimes within Area Id for {i+2011}\")\n",
    "    plt.tight_layout()"
   ]
  },
  {
   "cell_type": "markdown",
   "metadata": {},
   "source": [
    "将每个数据集的优先级为1和优先级为2的犯罪总数相加，我们可以看到这两种犯罪都有所增加。"
   ]
  },
  {
   "cell_type": "markdown",
   "metadata": {},
   "source": [
    "### 巡逻区域分析"
   ]
  },
  {
   "cell_type": "code",
   "execution_count": 60,
   "metadata": {},
   "outputs": [
    {
     "name": "stdout",
     "output_type": "stream",
     "text": [
      "Beat  Priority\n",
      "01X   1.0          394\n",
      "      2.0         1816\n",
      "02X   1.0          644\n",
      "      2.0         1970\n",
      "02Y   1.0          661\n",
      "                  ... \n",
      "35X   2.0         2979\n",
      "35Y   1.0          269\n",
      "      2.0         1687\n",
      "PDT2  1.0            2\n",
      "      2.0           18\n",
      "Length: 116, dtype: int64\n",
      " \n",
      "Beat  Priority\n",
      "01X   1.0          493\n",
      "      2.0         1700\n",
      "02X   1.0          731\n",
      "      2.0         2067\n",
      "02Y   1.0          795\n",
      "                  ... \n",
      "35X   2.0         3204\n",
      "35Y   1.0          314\n",
      "      2.0         1672\n",
      "PDT2  1.0            5\n",
      "      2.0           23\n",
      "Length: 116, dtype: int64\n",
      " \n",
      "Beat  Priority\n",
      "01X   1.0          467\n",
      "      2.0         1842\n",
      "02X   1.0          850\n",
      "      2.0         1863\n",
      "02Y   1.0          791\n",
      "                  ... \n",
      "35X   2.0         3049\n",
      "35Y   1.0          305\n",
      "      2.0         1645\n",
      "PDT2  1.0            2\n",
      "      2.0           16\n",
      "Length: 116, dtype: int64\n",
      " \n",
      "Beat  Priority\n",
      "01X   1            481\n",
      "      2           1839\n",
      "02X   1            806\n",
      "      2           2013\n",
      "02Y   1            900\n",
      "                  ... \n",
      "35X   2           3182\n",
      "35Y   1            332\n",
      "      2           1528\n",
      "PDT2  1              5\n",
      "      2             19\n",
      "Length: 116, dtype: int64\n",
      " \n",
      "Beat  Priority\n",
      "01X   1            593\n",
      "      2           1959\n",
      "02X   1            661\n",
      "      2           1854\n",
      "02Y   1            742\n",
      "                  ... \n",
      "35X   2           3231\n",
      "35Y   1            372\n",
      "      2           1921\n",
      "PDT2  1             14\n",
      "      2             21\n",
      "Length: 116, dtype: int64\n",
      " \n",
      "Beat  Priority\n",
      "01X   1.0          310\n",
      "      2.0          994\n",
      "02X   1.0          469\n",
      "      2.0         1277\n",
      "02Y   1.0          384\n",
      "                  ... \n",
      "35X   2.0         1708\n",
      "35Y   1.0          173\n",
      "      2.0          986\n",
      "PDT2  1.0            2\n",
      "      2.0           14\n",
      "Length: 116, dtype: int64\n",
      " \n"
     ]
    }
   ],
   "source": [
    "# 按优先级显示的巡逻区域的值计数\n",
    "for i in list_dfs:\n",
    "    print(i[i['Priority']!=0].groupby(['Beat', 'Priority']).size())\n",
    "    print(' ')"
   ]
  },
  {
   "cell_type": "code",
   "execution_count": 61,
   "metadata": {},
   "outputs": [
    {
     "data": {
      "image/png": "[encoded data removed]",
      "text/plain": [
       "<Figure size 1080x504 with 6 Axes>"
      ]
     },
     "metadata": {
      "needs_background": "light"
     },
     "output_type": "display_data"
    }
   ],
   "source": [
    "fig, axes = plt.subplots(2, 3)\n",
    "for i, d in enumerate(list_dfs):\n",
    "    ax = axes.flatten()[i]\n",
    "    dplot = d[['Beat', 'Priority']].pivot_table(index='Beat', columns=['Priority'], aggfunc=len)\n",
    "    dplot = (dplot.assign(total=lambda x: x.sum(axis=1))\n",
    "                  .sort_values('total', ascending=False)\n",
    "                  .head(10)\n",
    "                  .drop('total', axis=1))\n",
    "    dplot.plot.bar(ax=ax, figsize=(15, 7), stacked=True)\n",
    "    ax.set_title(f\"Top 10 Beats for {i+ 2011}\")\n",
    "    plt.tight_layout()"
   ]
  },
  {
   "cell_type": "markdown",
   "metadata": {},
   "source": [
    "### 事件类型描述(事件类型id)分析"
   ]
  },
  {
   "cell_type": "code",
   "execution_count": 62,
   "metadata": {},
   "outputs": [
    {
     "data": {
      "image/png": "[encoded data removed]",
      "text/plain": [
       "<Figure size 1080x504 with 6 Axes>"
      ]
     },
     "metadata": {
      "needs_background": "light"
     },
     "output_type": "display_data"
    }
   ],
   "source": [
    "# 数据集中最常见的20种犯罪\n",
    "df1 = df_2011['Incident Type Description'].value_counts()[:10]\n",
    "df2 = df_2012['Incident Type Description'].value_counts()[:10]\n",
    "df3 = df_2013['Incident Type Description'].value_counts()[:10]\n",
    "df4 = df_2014['Incident Type Description'].value_counts()[:10]\n",
    "df5 = df_2015['Incident Type Description'].value_counts()[:10]\n",
    "df6 = df_2016['Incident Type Description'].value_counts()[:10]\n",
    "list_df = [df1, df2, df3, df4, df5, df6]\n",
    "fig, axes = plt.subplots(2, 3)\n",
    "for d, i in zip(list_df, range(6)):\n",
    "    ax=axes.ravel()[i];\n",
    "    ax.set_title(f\"Top 20 crimes in {i+2011}\")\n",
    "    d.plot.barh(ax=ax, figsize=(15, 7))\n",
    "    plt.tight_layout()"
   ]
  },
  {
   "cell_type": "code",
   "execution_count": 63,
   "metadata": {},
   "outputs": [
    {
     "data": {
      "image/png": "[encoded data removed]",
      "text/plain": [
       "<Figure size 1080x504 with 6 Axes>"
      ]
     },
     "metadata": {
      "needs_background": "light"
     },
     "output_type": "display_data"
    }
   ],
   "source": [
    "fig, axes = plt.subplots(2, 3)\n",
    "for i, d in enumerate(list_dfs):\n",
    "    ax = axes.flatten()[i]\n",
    "    dplot = d[['Incident Type Id', 'Priority']].pivot_table(index='Incident Type Id', columns='Priority',aggfunc=len)\n",
    "    dplot = (dplot.assign(total=lambda x: x.sum(axis=1))\n",
    "                  .sort_values('total', ascending=False)\n",
    "                  .head(10)\n",
    "                  .drop('total', axis=1))\n",
    "    dplot.plot.barh(ax=ax, figsize=(15, 7), stacked=True)\n",
    "    ax.set_title(f\"Plot of Top 10 Incidents in {i+2011}\")\n",
    "    plt.tight_layout()"
   ]
  },
  {
   "cell_type": "markdown",
   "metadata": {},
   "source": [
    "两个图表显示'事件类型描述'以及它的Id。第一幅图显示“报警铃声”是迄今为止报告最多的犯罪，然而在图2中我们可以看到只有一小部分是优先级1。通过6个数据集，我们可以看到“Battery/242”是报告的最高优先级犯罪。"
   ]
  },
  {
   "cell_type": "markdown",
   "metadata": {},
   "source": [
    "### 时间分析"
   ]
  },
  {
   "cell_type": "code",
   "execution_count": 64,
   "metadata": {},
   "outputs": [
    {
     "data": {
      "image/png": "[encoded data removed]",
      "text/plain": [
       "<Figure size 1080x504 with 6 Axes>"
      ]
     },
     "metadata": {
      "needs_background": "light"
     },
     "output_type": "display_data"
    }
   ],
   "source": [
    "# 每月优先级犯罪总数\n",
    "pri_count_list = [df_2011.groupby(['Priority', df_2011['Create Time'].dt.to_period('m')]).Priority.count(),\n",
    "                  df_2012.groupby(['Priority', df_2012['Create Time'].dt.to_period('m')]).Priority.count(),\n",
    "                  df_2013.groupby(['Priority', df_2013['Create Time'].dt.to_period('m')]).Priority.count(),\n",
    "                  df_2014.groupby(['Priority', df_2014['Create Time'].dt.to_period('m')]).Priority.count(),\n",
    "                  df_2015.groupby(['Priority', df_2015['Create Time'].dt.to_period('m')]).Priority.count(),\n",
    "                  df_2016.groupby(['Priority', df_2016['Create Time'].dt.to_period('m')]).Priority.count()]\n",
    "fig, axes = plt.subplots(2, 3)\n",
    "for d, ax in zip(pri_count_list, axes.ravel()):\n",
    "    plot_df1 = d.unstack('Priority').loc[:, 1]\n",
    "    plot_df2 = d.unstack('Priority').loc[:, 2]\n",
    "    plot_df1.index = pd.PeriodIndex(plot_df1.index.tolist(), freq='m')\n",
    "    plot_df2.index = pd.PeriodIndex(plot_df2.index.tolist(), freq='m')\n",
    "    plt.suptitle('Visualisation of priorities by the year')\n",
    "    plot_df1.plot(ax=ax, legend=True, figsize=(15, 7))\n",
    "    plot_df2.plot(ax=ax, legend=True, figsize=(15, 7))"
   ]
  },
  {
   "cell_type": "markdown",
   "metadata": {},
   "source": [
    "可视化显示，在每一年里，第二优先犯罪似乎在7月/ 8月左右达到顶峰。除了2014年，这个数字似乎有所下降。2016年的图表显示了一个不确定的图表，因为数据集只有7个月的时间跨度。"
   ]
  },
  {
   "cell_type": "markdown",
   "metadata": {},
   "source": [
    "### Apriori算法"
   ]
  },
  {
   "cell_type": "markdown",
   "metadata": {
    "colab_type": "text",
    "id": "r8pEIq_3ASFm"
   },
   "source": [
    "### 关联规则\n",
    "1. 支持度\n",
    "$$Sup(x)=\\frac{count(X)}{all_data}$$\n",
    "2. 执行度\n",
    "$$conf(X \\to Y)=\\frac{Sup(X \\cup Y}{Sup(X)}$$\n",
    "3. Lift\n",
    "$$lift(X \\to Y)=\\frac{Sup(X \\cup Y}{Sup(X) \\times Sup(Y)}$$\n",
    "4. Jaccard\n",
    "$$Jaccard(X \\to Y) = \\frac{X \\cup Y}{Sup(X) + Sup(Y) - Sup(X \\cup Y)}$$\n"
   ]
  },
  {
   "cell_type": "code",
   "execution_count": 74,
   "metadata": {
    "colab": {},
    "colab_type": "code",
    "id": "cJZuC5aliiTI"
   },
   "outputs": [],
   "source": [
    "#首先找出所有频繁项集，然后由频繁项集产生强关联规则\n",
    "class Association(object):\n",
    "    def __init__(self, min_support = 0.1, min_confidence = 0.5):\n",
    "        self.min_support = min_support         # 最小支持度\n",
    "        self.min_confidence = min_confidence   #  最小置信度\n",
    "\n",
    "    def apriori(self, dataset):\n",
    "        \"\"\"\n",
    "        Apriori algorithm\n",
    "        dataset:数据集，类型为一个list，list中每个元素是一个dict，key为属性名，value为对应属性的取值\n",
    "        返回生成的频繁项集\n",
    "        \"\"\"\n",
    "        C1 = self.create_C1(dataset)\n",
    "        dataset = [set(data) for data in dataset]\n",
    "        L1, support_data = self.scan_D(dataset, C1)\n",
    "        L = [L1]\n",
    "        k = 2\n",
    "        while len(L[k-2]) > 0:\n",
    "            Ck = self.apriori_gen(L[k-2], k)\n",
    "            Lk, support_k = self.scan_D(dataset, Ck)\n",
    "            support_data.update(support_k)\n",
    "            L.append(Lk)\n",
    "            k += 1\n",
    "        return L, support_data\n",
    "\n",
    "    def create_C1(self, dataset):\n",
    "        \"\"\"\n",
    "        构建全部可能的单元素候选项集合(list)\n",
    "        每个单元素候选项：（属性名，属性取值）\n",
    "        \"\"\"\n",
    "        C1 = []\n",
    "        progress = ProgressBar()\n",
    "        for data in progress(dataset):\n",
    "            for item in data:\n",
    "                if [item] not in C1:\n",
    "                    C1.append([item])\n",
    "        return [frozenset(item) for item in C1]\n",
    "\n",
    "    def scan_D(self, dataset, Ck):\n",
    "        \"\"\"\n",
    "        根据待选项集Ck的情况，判断数据集D中Ck元素的出现频率\n",
    "        过滤掉低于最小支持度的项集\n",
    "        \"\"\"\n",
    "        Ck_count = dict()\n",
    "        for data in dataset:\n",
    "            for cand in Ck:\n",
    "                if cand.issubset(data):\n",
    "                    if cand not in Ck_count:\n",
    "                        Ck_count[cand] = 1\n",
    "                    else:\n",
    "                        Ck_count[cand] += 1\n",
    "\n",
    "        num_items = float(len(dataset))\n",
    "        return_list = []\n",
    "        support_data = dict()\n",
    "        # 过滤非频繁项集\n",
    "        for key in Ck_count:\n",
    "            support  = Ck_count[key] / num_items\n",
    "            if support >= self.min_support:\n",
    "                return_list.insert(0, key)\n",
    "            support_data[key] = support\n",
    "        return return_list, support_data\n",
    "\n",
    "    def apriori_gen(self, Lk, k):\n",
    "        #合并元素时容易出现重复,针对包含k个元素的频繁项集，对比每个频繁项集第k-2位是否一致\n",
    "        return_list = []\n",
    "        len_Lk = len(Lk)\n",
    "        for i in range(len_Lk):\n",
    "            for j in range(i+1, len_Lk):\n",
    "                # 第k-2个项相同时，将两个集合合并\n",
    "                L1 = list(Lk[i])[:k-2]\n",
    "                L2 = list(Lk[j])[:k-2]\n",
    "                L1.sort()\n",
    "                L2.sort()\n",
    "                if L1 == L2:\n",
    "                    return_list.append(Lk[i] | Lk[j])\n",
    "        return return_list\n",
    "\n",
    "    def generate_rules(self, L, support_data):\n",
    "        \"\"\"\n",
    "        强关联规则\n",
    "        基于Apriori算法，首先从一个频繁项集开始，接着创建一个规则列表，\n",
    "        其中规则右部只包含一个元素，然后对这些规则进行测试。\n",
    "        接下来合并所有的剩余规则列表来创建一个新的规则列表，\n",
    "        其中规则右部包含两个元素。这种方法称作分级法。\n",
    "        L: 频繁项集\n",
    "        support_data: 频繁项集对应的支持度\n",
    "        返回强关联规则列表\n",
    "        \"\"\"\n",
    "        big_rules_list = []\n",
    "        for i in range(1, len(L)):\n",
    "            for freq_set in L[i]:\n",
    "                H1 = [frozenset([item]) for item in freq_set]\n",
    "                # 只获取有两个或更多元素的集合\n",
    "                if i > 1:\n",
    "                    self.rules_from_conseq(freq_set, H1, support_data, big_rules_list)\n",
    "                else:\n",
    "                    self.cal_conf(freq_set, H1, support_data, big_rules_list)\n",
    "        return big_rules_list\n",
    "\n",
    "    def rules_from_conseq(self, freq_set, H, support_data, big_rules_list):\n",
    "        # H->出现在规则右部的元素列表\n",
    "        m = len(H[0])\n",
    "        if len(freq_set) > (m+1):\n",
    "            Hmp1 = self.apriori_gen(H, m+1)\n",
    "            Hmp1 = self.cal_conf(freq_set, Hmp1, support_data, big_rules_list)\n",
    "            if len(Hmp1) > 1:\n",
    "                self.rules_from_conseq(freq_set, Hmp1, support_data, big_rules_list)\n",
    "\n",
    "    def cal_conf(self, freq_set, H, support_data, big_rules_list):\n",
    "        # 评估生成的规则\n",
    "        prunedH = []\n",
    "        for conseq in H:\n",
    "            sup = support_data[freq_set]\n",
    "            conf = sup / support_data[freq_set - conseq]\n",
    "            lift = conf / support_data[freq_set - conseq]\n",
    "            jaccard = sup / (support_data[freq_set - conseq] + support_data[conseq] - sup)\n",
    "            if conf >= self.min_confidence:\n",
    "                big_rules_list.append((freq_set-conseq, conseq, sup, conf, lift,jaccard))\n",
    "                prunedH.append(conseq)\n",
    "        return prunedH"
   ]
  },
  {
   "cell_type": "code",
   "execution_count": 75,
   "metadata": {
    "colab": {},
    "colab_type": "code",
    "id": "rEV0P8mniiTS"
   },
   "outputs": [],
   "source": [
    "class OCS_dataset():\n",
    "    def __init__(self,data_file_path,result_path,feature_list=None):\n",
    "        self.data_file_path = data_file_path\n",
    "        self.feature_list = feature_list\n",
    "        self.result_path = result_path\n",
    "\n",
    "    def set_feature_list(self,feature_list):\n",
    "        self.feature_list = feature_list\n",
    "        \n",
    "    def set_data_file_path(self,data_file_path):\n",
    "        self.data_file_path = data_file_path\n",
    "    \n",
    "    def set_result_path(result_path):\n",
    "        self.result_path = result_path\n",
    "    \n",
    "    def data_read(self):\n",
    "\n",
    "        data2011 = pd.read_csv(self.data_file_path+\"/records-for-2011.csv\", encoding=\"utf-8\")\n",
    "        data2012 = pd.read_csv(self.data_file_path+\"/records-for-2012.csv\", encoding=\"utf-8\")\n",
    "        data2013 = pd.read_csv(self.data_file_path+\"/records-for-2013.csv\", encoding=\"utf-8\")\n",
    "        data2014 = pd.read_csv(self.data_file_path+\"/records-for-2014.csv\", encoding=\"utf-8\")\n",
    "        data2015 = pd.read_csv(self.data_file_path+\"/records-for-2015.csv\", encoding=\"utf-8\")\n",
    "        data2016 = pd.read_csv(self.data_file_path+\"/records-for-2016.csv\", encoding=\"utf-8\")\n",
    "        \n",
    "        data2012.rename(columns={\"Location 1\": \"Location\"}, inplace = True)\n",
    "        data2013.rename(columns={\"Location \": \"Location\"}, inplace = True)\n",
    "        data2014.rename(columns={\"Location 1\": \"Location\"}, inplace = True)\n",
    "\n",
    "        order=[\"Agency\", \"Location\", \"Area Id\", \"Beat\", \"Priority\", \n",
    "               \"Incident Type Id\", \"Incident Type Description\", \"Event Number\"]\n",
    "        data2011_2 = data2011[order]; data2012_2 = data2012[order]; data2013_2 = data2013[order]\n",
    "        data2014_2 = data2014[order]; data2015_2 = data2015[order]; data2016_2 = data2016[order]\n",
    "\n",
    "        data_all = pd.concat([data2011_2, data2012_2, data2013_2, data2014_2, data2015_2, data2016_2],\n",
    "                             axis=0)\n",
    "        print(\"合并后的数据集:\"); print(data_all.info())\n",
    "        data_all = data_all.dropna(how='any')\n",
    "\n",
    "        return data_all\n",
    "\n",
    "\n",
    "    def mining(self,min_support = 0.1, min_confidence = 0.5,head_n=None):\n",
    "        out_path = self.result_path\n",
    "        association = Association(min_support=min_support,min_confidence=min_confidence)\n",
    "        data_all = self.data_read()\n",
    "        rows = None\n",
    "        if head_n is None:\n",
    "          rows = data_all.values.tolist()\n",
    "        else:\n",
    "          rows = data_all.head(head_n).values.tolist()\n",
    "\n",
    "        # 将数据转为数据字典存储\n",
    "        dataset = []\n",
    "        feature_names = [\"Agency\", \"Location\", \"Area Id\", \"Beat\", \"Priority\", \n",
    "                             \"Incident Type Id\", \"Incident Type Description\", \"Event Number\"]\n",
    "        for data_line in rows:\n",
    "            data_set = []\n",
    "            for i, value in enumerate(data_line):\n",
    "                if not value:\n",
    "                    data_set.append((feature_names[i], 'NA'))\n",
    "                else:\n",
    "                    data_set.append((feature_names[i], value))\n",
    "            dataset.append(data_set)\n",
    "        print(\"挖掘开始\")\n",
    "        # 获取频繁项集\n",
    "        freq_set, sup_rata = association.apriori(dataset)\n",
    "        sup_rata_out = sorted(sup_rata.items(), key=lambda d: d[1], reverse=True)\n",
    "        # 获取强关联规则列表\n",
    "        strong_rules_list = association.generate_rules(freq_set, sup_rata)\n",
    "        strong_rules_list = sorted(strong_rules_list, key=lambda x: x[3], reverse=True)\n",
    "\n",
    "        print(\"挖掘完成！\")\n",
    "        # 将频繁项集输出到结果文件\n",
    "        freq_set_file = open(os.path.join(out_path, 'fterms.json'), 'w')\n",
    "        for (key, value) in sup_rata_out:\n",
    "            result_dict = {'set': None, 'sup': None}\n",
    "            set_result = list(key)\n",
    "            sup_result = value\n",
    "            if sup_result < association.min_support:\n",
    "                continue\n",
    "            result_dict['set'] = set_result\n",
    "            result_dict['sup'] = sup_result\n",
    "            json_str = json.dumps(result_dict, ensure_ascii=False)\n",
    "            freq_set_file.write(json_str + '\\n')\n",
    "        freq_set_file.close()\n",
    "\n",
    "        # 将关联规则输出到结果文件\n",
    "        rules_file = open(os.path.join(out_path, 'rules.json'), 'w')\n",
    "        for result in strong_rules_list:\n",
    "            result_dict = {'X_set': None, 'Y_set': None, 'sup': None, 'conf': None, 'lift': None, 'jaccard': None}\n",
    "            X_set, Y_set, sup, conf, lift, jaccard = result\n",
    "            result_dict['X_set'] = list(X_set)\n",
    "            result_dict['Y_set'] = list(Y_set)\n",
    "            result_dict['sup'] = sup\n",
    "            result_dict['conf'] = conf\n",
    "            result_dict['lift'] = lift\n",
    "            result_dict['jaccard'] = jaccard\n",
    "\n",
    "            json_str = json.dumps(result_dict, ensure_ascii=False)\n",
    "            rules_file.write(json_str + '\\n')\n",
    "        rules_file.close()\n",
    "        print(\"结果存储完成！\")"
   ]
  },
  {
   "cell_type": "code",
   "execution_count": 77,
   "metadata": {
    "colab": {
     "base_uri": "https://localhost:8080/",
     "height": 374
    },
    "colab_type": "code",
    "id": "ivZMIe6uiiTW",
    "outputId": "51073ed8-c9e3-4c6b-f731-c7540d93d643"
   },
   "outputs": [
    {
     "name": "stdout",
     "output_type": "stream",
     "text": [
      "合并后的数据集:\n",
      "<class 'pandas.core.frame.DataFrame'>\n",
      "Int64Index: 1046388 entries, 0 to 110827\n",
      "Data columns (total 8 columns):\n",
      " #   Column                     Non-Null Count    Dtype  \n",
      "---  ------                     --------------    -----  \n",
      " 0   Agency                     1046384 non-null  object \n",
      " 1   Location                   1046276 non-null  object \n",
      " 2   Area Id                    864023 non-null   object \n",
      " 3   Beat                       1040583 non-null  object \n",
      " 4   Priority                   1046384 non-null  float64\n",
      " 5   Incident Type Id           1046384 non-null  object \n",
      " 6   Incident Type Description  1045996 non-null  object \n",
      " 7   Event Number               1046384 non-null  object \n",
      "dtypes: float64(1), object(7)\n",
      "memory usage: 71.8+ MB\n",
      "None\n"
     ]
    },
    {
     "name": "stderr",
     "output_type": "stream",
     "text": [
      "  2% |#                                                                       |\r"
     ]
    },
    {
     "name": "stdout",
     "output_type": "stream",
     "text": [
      "挖掘开始\n"
     ]
    },
    {
     "name": "stderr",
     "output_type": "stream",
     "text": [
      "100% |########################################################################|\n"
     ]
    },
    {
     "name": "stdout",
     "output_type": "stream",
     "text": [
      "挖掘完成！\n",
      "结果存储完成！\n"
     ]
    }
   ],
   "source": [
    "ocs = OCS_dataset(data_file_path=\"./input/oakland-crime-statistics-2011-to-2016\",\n",
    "                 result_path=\"./ocs_result\")\n",
    "ocs.mining(min_support = 0.1, min_confidence = 0.5,head_n=50000)"
   ]
  },
  {
   "cell_type": "markdown",
   "metadata": {
    "colab_type": "text",
    "id": "aWyixUHfFKXJ"
   },
   "source": [
    "## 结果可视化"
   ]
  },
  {
   "cell_type": "code",
   "execution_count": 78,
   "metadata": {
    "colab": {
     "base_uri": "https://localhost:8080/",
     "height": 572
    },
    "colab_type": "code",
    "id": "ru7ZlqmKiiTa",
    "outputId": "9d0d9a06-24a2-4890-bbf4-e75eb7368364"
   },
   "outputs": [
    {
     "data": {
      "image/png": "[encoded data removed]",
      "text/plain": [
       "<Figure size 432x288 with 1 Axes>"
      ]
     },
     "metadata": {
      "needs_background": "light"
     },
     "output_type": "display_data"
    },
    {
     "data": {
      "image/png": "[encoded data removed]",
      "text/plain": [
       "<Figure size 432x288 with 1 Axes>"
      ]
     },
     "metadata": {
      "needs_background": "light"
     },
     "output_type": "display_data"
    }
   ],
   "source": [
    "with open(\"./ocs_result/fterms.json\") as f1:\n",
    "  freq = [json.loads(each) for each in f1.readlines()]\n",
    "  freq_sup = [each[\"sup\"] for each in freq]\n",
    "  plt.figure()\n",
    "  plt.title(\"Frequent item\")\n",
    "  plt.boxplot(freq_sup)\n",
    "  plt.show()\n",
    "\n",
    "with open(\"./ocs_result/rules.json\") as f2:\n",
    "  rules = [json.loads(each) for each in f2.readlines()]\n",
    "  rules_sup = [each[\"sup\"] for each in rules]\n",
    "  rules_conf = [each[\"conf\"] for each in rules]\n",
    "  fig=plt.figure(\"rule\")\n",
    "  ax=fig.add_axes([0.1,0.1,0.8,0.8])\n",
    "  ax.set_title(\"Rules\")\n",
    "  ax.scatter(rules_sup, rules_conf, marker='o', color='green')\n",
    "  ax.set_xlabel(\"Support\")\n",
    "  ax.set_ylabel(\"Confidence\")\n",
    "  plt.show()"
   ]
  },
  {
   "cell_type": "markdown",
   "metadata": {
    "colab_type": "text",
    "id": "cv59tUjdFUjs"
   },
   "source": [
    "## 挖掘结果分析\n",
    "### 频繁项集\n",
    "将频繁项集按照支持度由大到小排序，结果如下："
   ]
  },
  {
   "cell_type": "code",
   "execution_count": 79,
   "metadata": {
    "colab": {
     "base_uri": "https://localhost:8080/",
     "height": 357
    },
    "colab_type": "code",
    "id": "rloP9MOPFq_w",
    "outputId": "aa1f20ef-499f-492c-cc48-73c613759f2b"
   },
   "outputs": [
    {
     "data": {
      "text/plain": [
       "[{'set': [['Agency', 'OP']], 'sup': 1.0},\n",
       " {'set': [['Priority', 2.0]], 'sup': 0.81442},\n",
       " {'set': [['Agency', 'OP'], ['Priority', 2.0]], 'sup': 0.81442},\n",
       " {'set': [['Area Id', 1.0]], 'sup': 0.35754},\n",
       " {'set': [['Area Id', 1.0], ['Agency', 'OP']], 'sup': 0.35754},\n",
       " {'set': [['Area Id', 3.0]], 'sup': 0.35092},\n",
       " {'set': [['Area Id', 3.0], ['Agency', 'OP']], 'sup': 0.35092},\n",
       " {'set': [['Area Id', 1.0], ['Priority', 2.0]], 'sup': 0.29566},\n",
       " {'set': [['Agency', 'OP'], ['Area Id', 1.0], ['Priority', 2.0]],\n",
       "  'sup': 0.29566},\n",
       " {'set': [['Area Id', 2.0]], 'sup': 0.29154},\n",
       " {'set': [['Area Id', 2.0], ['Agency', 'OP']], 'sup': 0.29154},\n",
       " {'set': [['Area Id', 3.0], ['Priority', 2.0]], 'sup': 0.27902},\n",
       " {'set': [['Priority', 2.0], ['Area Id', 3.0], ['Agency', 'OP']],\n",
       "  'sup': 0.27902},\n",
       " {'set': [['Area Id', 2.0], ['Priority', 2.0]], 'sup': 0.23974},\n",
       " {'set': [['Priority', 2.0], ['Area Id', 2.0], ['Agency', 'OP']],\n",
       "  'sup': 0.23974},\n",
       " {'set': [['Priority', 1.0]], 'sup': 0.18556},\n",
       " {'set': [['Priority', 1.0], ['Agency', 'OP']], 'sup': 0.18556}]"
      ]
     },
     "execution_count": 79,
     "metadata": {},
     "output_type": "execute_result"
    }
   ],
   "source": [
    "freq"
   ]
  },
  {
   "cell_type": "markdown",
   "metadata": {
    "colab_type": "text",
    "id": "sMFdNKGeGRU4"
   },
   "source": [
    "### 关联规则\n",
    "将关联规则按照置信度由大到小排序，结果如下。\n",
    "分析可知，Ared Id的置信度最高，说明该地区犯罪事实出现最多，而且Area Id与Priority的关联度较高。"
   ]
  },
  {
   "cell_type": "code",
   "execution_count": 80,
   "metadata": {
    "colab": {
     "base_uri": "https://localhost:8080/",
     "height": 1000
    },
    "colab_type": "code",
    "id": "uOqOy8hRFXlg",
    "outputId": "bb0eb3ce-2624-4f29-ffa1-210d8784e085"
   },
   "outputs": [
    {
     "data": {
      "text/plain": [
       "[{'X_set': [['Area Id', 3.0]],\n",
       "  'Y_set': [['Agency', 'OP']],\n",
       "  'sup': 0.35092,\n",
       "  'conf': 1.0,\n",
       "  'lift': 2.8496523424142253,\n",
       "  'jaccard': 0.35092000000000007},\n",
       " {'X_set': [['Area Id', 2.0]],\n",
       "  'Y_set': [['Agency', 'OP']],\n",
       "  'sup': 0.29154,\n",
       "  'conf': 1.0,\n",
       "  'lift': 3.4300610550867803,\n",
       "  'jaccard': 0.2915400000000001},\n",
       " {'X_set': [['Priority', 2.0]],\n",
       "  'Y_set': [['Agency', 'OP']],\n",
       "  'sup': 0.81442,\n",
       "  'conf': 1.0,\n",
       "  'lift': 1.2278676849782666,\n",
       "  'jaccard': 0.81442},\n",
       " {'X_set': [['Area Id', 1.0]],\n",
       "  'Y_set': [['Agency', 'OP']],\n",
       "  'sup': 0.35754,\n",
       "  'conf': 1.0,\n",
       "  'lift': 2.796889858477373,\n",
       "  'jaccard': 0.35754},\n",
       " {'X_set': [['Priority', 1.0]],\n",
       "  'Y_set': [['Agency', 'OP']],\n",
       "  'sup': 0.18556,\n",
       "  'conf': 1.0,\n",
       "  'lift': 5.389092476826902,\n",
       "  'jaccard': 0.18556},\n",
       " {'X_set': [['Area Id', 1.0]],\n",
       "  'Y_set': [['Priority', 2.0]],\n",
       "  'sup': 0.29566,\n",
       "  'conf': 0.82692845555742,\n",
       "  'lift': 2.312827811034905,\n",
       "  'jaccard': 0.33739586899463647},\n",
       " {'X_set': [['Area Id', 1.0]],\n",
       "  'Y_set': [['Priority', 2.0], ['Agency', 'OP']],\n",
       "  'sup': 0.29566,\n",
       "  'conf': 0.82692845555742,\n",
       "  'lift': 2.312827811034905,\n",
       "  'jaccard': 0.33739586899463647},\n",
       " {'X_set': [['Area Id', 2.0]],\n",
       "  'Y_set': [['Priority', 2.0]],\n",
       "  'sup': 0.23974,\n",
       "  'conf': 0.8223228373465047,\n",
       "  'lift': 2.8206175390907067,\n",
       "  'jaccard': 0.2767657177160537},\n",
       " {'X_set': [['Area Id', 2.0]],\n",
       "  'Y_set': [['Agency', 'OP'], ['Priority', 2.0]],\n",
       "  'sup': 0.23974,\n",
       "  'conf': 0.8223228373465047,\n",
       "  'lift': 2.8206175390907067,\n",
       "  'jaccard': 0.2767657177160537},\n",
       " {'X_set': [['Agency', 'OP']],\n",
       "  'Y_set': [['Priority', 2.0]],\n",
       "  'sup': 0.81442,\n",
       "  'conf': 0.81442,\n",
       "  'lift': 0.81442,\n",
       "  'jaccard': 0.81442},\n",
       " {'X_set': [['Area Id', 3.0]],\n",
       "  'Y_set': [['Priority', 2.0]],\n",
       "  'sup': 0.27902,\n",
       "  'conf': 0.7951099965804171,\n",
       "  'lift': 2.2657870642323523,\n",
       "  'jaccard': 0.3148072930769925},\n",
       " {'X_set': [['Area Id', 3.0]],\n",
       "  'Y_set': [['Agency', 'OP'], ['Priority', 2.0]],\n",
       "  'sup': 0.27902,\n",
       "  'conf': 0.7951099965804171,\n",
       "  'lift': 2.2657870642323523,\n",
       "  'jaccard': 0.3148072930769925}]"
      ]
     },
     "execution_count": 80,
     "metadata": {},
     "output_type": "execute_result"
    }
   ],
   "source": [
    "rules"
   ]
  }
 ],
 "metadata": {
  "colab": {
   "name": "fpaadm.ipynb",
   "provenance": [],
   "toc_visible": true
  },
  "kernelspec": {
   "display_name": "Python 3",
   "language": "python",
   "name": "python3"
  },
  "language_info": {
   "codemirror_mode": {
    "name": "ipython",
    "version": 3
   },
   "file_extension": ".py",
   "mimetype": "text/x-python",
   "name": "python",
   "nbconvert_exporter": "python",
   "pygments_lexer": "ipython3",
   "version": "3.8.8"
  }
 },
 "nbformat": 4,
 "nbformat_minor": 1
}
